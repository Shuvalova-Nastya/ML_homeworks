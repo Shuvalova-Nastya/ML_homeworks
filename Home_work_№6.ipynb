{
 "cells": [
  {
   "cell_type": "code",
   "execution_count": 1,
   "id": "7f995383",
   "metadata": {},
   "outputs": [],
   "source": [
    "import numpy as np              # Массивы (матрицы, векторы, линейная алгебра)\n",
    "import matplotlib.pyplot as plt # Научная графика\n",
    "%matplotlib inline \n",
    "import pandas as pd             # Таблицы и временные ряды (dataframe, series)\n",
    "import seaborn as sns           # Еще больше красивой графики для визуализации данных\n",
    "import sklearn        \n"
   ]
  },
  {
   "cell_type": "markdown",
   "id": "c4ef17f7",
   "metadata": {},
   "source": [
    "# Банковский маркетинг\n",
    "\n",
    " **Цель задачи** - предсказать, подпишется ли клиент на срочный депозит.\n",
    "\n",
    "**Источник:**\n",
    "\n",
    "http://archive.ics.uci.edu/ml/datasets/Bank+Marketing (bank.zip)\n",
    "\n",
    "[Моро и др., 2014] С. Моро, П. Кортез и П. Рита. Подход на основе данных для прогнозирования успеха банковского телемаркетинга. Системы поддержки принятия решений, Elsevier, 62: 22-31, июнь 2014 г."
   ]
  },
  {
   "cell_type": "markdown",
   "id": "3f085eba",
   "metadata": {},
   "source": [
    "# Загружаем и предобрабатываем данные "
   ]
  },
  {
   "cell_type": "code",
   "execution_count": 2,
   "id": "dc945001",
   "metadata": {
    "scrolled": false
   },
   "outputs": [],
   "source": [
    "url='https://raw.githubusercontent.com/Shuvalova-Nastya/ML_homeworks/main/bank-full.csv'\n",
    "data_raw = pd.read_csv(url, delimiter=';')\n",
    "\n",
    "data_raw=data_raw.replace(\"unknown\",np.nan)\n",
    "pd.set_option('max_columns',None)\n"
   ]
  },
  {
   "cell_type": "code",
   "execution_count": 3,
   "id": "2fe76de5",
   "metadata": {},
   "outputs": [],
   "source": [
    "#Столбцы default, housing, loan, y содержат бинарные значения. Они имеют тип 'Object'. Заменим тип на бинарный.\n",
    "data_raw['default']=data_raw['default']=='yes'\n",
    "data_raw['housing']=data_raw['housing']=='yes'\n",
    "data_raw['loan']=data_raw['loan']=='yes'\n",
    "data_raw['y']=data_raw['y']=='yes'\n"
   ]
  },
  {
   "cell_type": "code",
   "execution_count": 4,
   "id": "c6a5aeef",
   "metadata": {},
   "outputs": [],
   "source": [
    "#Столбцы job, marital, education, contact, month, poutcome содержат категориальные значения.Они имеют тип 'Object'. \n",
    "#Заменим тип на специальный, предназначенный для хранения категориальных значений.\n",
    "data_raw['job'] = data_raw['job'].astype('category')\n",
    "data_raw['marital'] = data_raw['marital'].astype('category')\n",
    "data_raw['education'] = data_raw['education'].astype('category')\n",
    "data_raw['contact'] = data_raw['contact'].astype('category')\n",
    "data_raw['month'] = data_raw['month'].astype('category')\n",
    "data_raw['poutcome'] = data_raw['poutcome'].astype('category')"
   ]
  },
  {
   "cell_type": "code",
   "execution_count": 5,
   "id": "cc1d50c4",
   "metadata": {},
   "outputs": [],
   "source": [
    "bool_columns=[c for c in data_raw.columns if data_raw[c].dtype.name == 'bool']\n",
    "categorical_columns = [c for c in data_raw.columns if data_raw[c].dtype.name == 'category']\n",
    "numerical_columns   = [c for c in data_raw.columns if data_raw[c].dtype.name == 'int64']"
   ]
  },
  {
   "cell_type": "code",
   "execution_count": 6,
   "id": "e132aa9d",
   "metadata": {},
   "outputs": [],
   "source": [
    "#Пропущенных значений в столбцах poutcome и contact очень много, поэтому удалим эти столбцы. Остальные значения заполним модой.\n",
    "data_raw=data_raw.drop('poutcome', 1)\n",
    "data_raw=data_raw.drop('contact', 1)"
   ]
  },
  {
   "cell_type": "code",
   "execution_count": 8,
   "id": "0a7cb783",
   "metadata": {},
   "outputs": [],
   "source": [
    "data_raw['job'].fillna(data_raw['job'].mode().iloc[0], inplace=True)\n",
    "data_raw['education'].fillna(data_raw['education'].mode().iloc[0], inplace=True)"
   ]
  },
  {
   "cell_type": "code",
   "execution_count": 9,
   "id": "3a902668",
   "metadata": {},
   "outputs": [],
   "source": [
    "#Заменим бинарные признаки в столбцах default, housing, loan, y на числовые.\n",
    "data_raw['default'] = pd.factorize(data_raw['default'])[0]\n",
    "data_raw['housing'] = pd.factorize(data_raw['housing'])[0]\n",
    "data_raw['loan'] = pd.factorize(data_raw['loan'])[0]\n",
    "data_raw['y'] = pd.factorize(data_raw['y'])[0]\n",
    "\n",
    "bin_table=pd.concat((data_raw['default'],data_raw['housing'],data_raw['loan'],data_raw['y']),axis=1)"
   ]
  },
  {
   "cell_type": "code",
   "execution_count": 10,
   "id": "f47879ee",
   "metadata": {},
   "outputs": [],
   "source": [
    "#К категориальным признакам job, marital, education, month применим метод бинаризации:\n",
    "job_dummies = pd.get_dummies(data_raw['job'])\n",
    "marital_dummies = pd.get_dummies(data_raw['marital'])\n",
    "education_dummies = pd.get_dummies(data_raw['education'])\n",
    "month_dummies = pd.get_dummies(data_raw['month'])"
   ]
  },
  {
   "cell_type": "code",
   "execution_count": 11,
   "id": "e2b8d9df",
   "metadata": {},
   "outputs": [],
   "source": [
    "cat_table=pd.concat((job_dummies, marital_dummies,education_dummies,month_dummies), axis=1)"
   ]
  },
  {
   "cell_type": "code",
   "execution_count": 12,
   "id": "5ba4df9a",
   "metadata": {},
   "outputs": [],
   "source": [
    "#Выполним стандартизацию всех признаков:\n",
    "data_num_stand = (data_raw[numerical_columns]- data_raw[numerical_columns].mean(axis = 0))/data_raw[numerical_columns].std(axis = 0)"
   ]
  },
  {
   "cell_type": "code",
   "execution_count": 13,
   "id": "dc26b2fa",
   "metadata": {},
   "outputs": [],
   "source": [
    "#Соединим все в однй таблицу:\n",
    "data_stand=pd.concat((data_num_stand,bin_table, cat_table),axis=1)"
   ]
  },
  {
   "cell_type": "code",
   "execution_count": 14,
   "id": "aae5c049",
   "metadata": {},
   "outputs": [],
   "source": [
    "#Будем использовать все входные данные, кроме campaign, pdays, previous.\n",
    "y = data_stand['y']\n",
    "X = data_stand.drop(['campaign', 'pdays', 'previous','y'], axis=1)\n",
    "features_names=X.columns"
   ]
  },
  {
   "cell_type": "markdown",
   "id": "c1a1645e",
   "metadata": {},
   "source": [
    "## Разбиваем данные на обучающую и тестовую выборки"
   ]
  },
  {
   "cell_type": "code",
   "execution_count": 15,
   "id": "7f1d10d3",
   "metadata": {},
   "outputs": [
    {
     "name": "stdout",
     "output_type": "stream",
     "text": [
      "33908 11303\n"
     ]
    }
   ],
   "source": [
    "from sklearn.model_selection import train_test_split\n",
    "X_train, X_test, y_train, y_test = train_test_split(X, y, test_size = 0.25, random_state = 369)\n",
    "\n",
    "N_train, _ = X_train.shape \n",
    "N_test,  _ = X_test.shape \n",
    "\n",
    "print(N_train, N_test)"
   ]
  },
  {
   "cell_type": "markdown",
   "id": "8efd1e86",
   "metadata": {},
   "source": [
    "## Обучаем классификатор"
   ]
  },
  {
   "cell_type": "code",
   "execution_count": 16,
   "id": "8168bc57",
   "metadata": {},
   "outputs": [],
   "source": [
    "from sklearn.neural_network import MLPClassifier"
   ]
  },
  {
   "cell_type": "markdown",
   "id": "f6b982e7",
   "metadata": {},
   "source": [
    "1 слой:"
   ]
  },
  {
   "cell_type": "code",
   "execution_count": 21,
   "id": "2492755d",
   "metadata": {},
   "outputs": [],
   "source": [
    "mlp_model = MLPClassifier(hidden_layer_sizes = (100,),\n",
    "                          solver = 'lbfgs', \n",
    "                          activation = 'logistic',\n",
    "                          max_iter=100000,\n",
    "                          random_state = 54)"
   ]
  },
  {
   "cell_type": "code",
   "execution_count": 17,
   "id": "8b308d12",
   "metadata": {
    "scrolled": true
   },
   "outputs": [
    {
     "name": "stdout",
     "output_type": "stream",
     "text": [
      "Wall time: 3min 15s\n"
     ]
    },
    {
     "data": {
      "text/plain": [
       "MLPClassifier(activation='logistic', hidden_layer_sizes=(100, 100),\n",
       "              max_iter=100000, random_state=54, solver='lbfgs')"
      ]
     },
     "execution_count": 17,
     "metadata": {},
     "output_type": "execute_result"
    }
   ],
   "source": [
    "%%time\n",
    "mlp_model.fit(X_train, y_train)"
   ]
  },
  {
   "cell_type": "markdown",
   "id": "96d1eec4",
   "metadata": {},
   "source": [
    "2 слоя:"
   ]
  },
  {
   "cell_type": "code",
   "execution_count": 16,
   "id": "5d5319a9",
   "metadata": {},
   "outputs": [],
   "source": [
    "mlp_model = MLPClassifier(hidden_layer_sizes = (100,100,),\n",
    "                          solver = 'lbfgs', \n",
    "                          activation = 'logistic',\n",
    "                          max_iter=100000,\n",
    "                          random_state = 54)"
   ]
  },
  {
   "cell_type": "code",
   "execution_count": 22,
   "id": "db4d7e05",
   "metadata": {},
   "outputs": [
    {
     "name": "stdout",
     "output_type": "stream",
     "text": [
      "Wall time: 6min 17s\n"
     ]
    },
    {
     "data": {
      "text/plain": [
       "MLPClassifier(activation='logistic', max_iter=100000, random_state=54,\n",
       "              solver='lbfgs')"
      ]
     },
     "execution_count": 22,
     "metadata": {},
     "output_type": "execute_result"
    }
   ],
   "source": [
    "%%time\n",
    "mlp_model.fit(X_train, y_train)"
   ]
  },
  {
   "cell_type": "markdown",
   "id": "47a8a78d",
   "metadata": {},
   "source": [
    "## Проверяем качество классификатора"
   ]
  },
  {
   "cell_type": "code",
   "execution_count": 18,
   "id": "49563f24",
   "metadata": {},
   "outputs": [],
   "source": [
    "y_train_pred = mlp_model.predict(X_train)\n",
    "y_test_pred = mlp_model.predict(X_test)"
   ]
  },
  {
   "cell_type": "markdown",
   "id": "3f5682b7",
   "metadata": {},
   "source": [
    "1 слой:"
   ]
  },
  {
   "cell_type": "code",
   "execution_count": 20,
   "id": "1c700b7d",
   "metadata": {},
   "outputs": [
    {
     "name": "stdout",
     "output_type": "stream",
     "text": [
      "Ошибка на обучающей выборке 0.0\n",
      "Ошибка на тестовой выборке 0.12810758205786077\n"
     ]
    }
   ],
   "source": [
    "arr_test_e=(1 - mlp_model.score(X_test, y_test))\n",
    "arr_train_e=(1- mlp_model.score(X_train, y_train))\n",
    "print('Ошибка на обучающей выборке', arr_train_e)\n",
    "print('Ошибка на тестовой выборке', arr_test_e)"
   ]
  },
  {
   "cell_type": "code",
   "execution_count": null,
   "id": "833fde98",
   "metadata": {},
   "outputs": [],
   "source": [
    "2 слоя:"
   ]
  },
  {
   "cell_type": "code",
   "execution_count": 23,
   "id": "4b240ee2",
   "metadata": {},
   "outputs": [
    {
     "name": "stdout",
     "output_type": "stream",
     "text": [
      "Ошибка на обучающей выборке 0.0017694939247375752\n",
      "Ошибка на тестовой выборке 0.1404936742457754\n"
     ]
    }
   ],
   "source": [
    "arr_test_e=(1 - mlp_model.score(X_test, y_test))\n",
    "arr_train_e=(1- mlp_model.score(X_train, y_train))\n",
    "print('Ошибка на обучающей выборке', arr_train_e)\n",
    "print('Ошибка на тестовой выборке', arr_test_e)"
   ]
  },
  {
   "cell_type": "markdown",
   "id": "05ab61fa",
   "metadata": {},
   "source": [
    "## Подбор гипер-параметров"
   ]
  },
  {
   "cell_type": "markdown",
   "id": "b03fc7ea",
   "metadata": {},
   "source": [
    "### Подберем оптимальное значение параметра регуляризации alpha при одном слое:"
   ]
  },
  {
   "cell_type": "code",
   "execution_count": 31,
   "id": "5bed323b",
   "metadata": {},
   "outputs": [],
   "source": [
    "from sklearn.metrics import accuracy_score\n",
    "alpha_arr = np.logspace(-3, 2, 21)\n",
    "test_err = []\n",
    "train_err = []\n",
    "train_acc = []\n",
    "test_acc = []\n",
    "\n",
    "for alpha in alpha_arr:\n",
    "    mlp_model = MLPClassifier(alpha = alpha, hidden_layer_sizes = (100,), \n",
    "                              solver = 'lbfgs', activation = 'logistic', max_iter=100000, random_state = 54)\n",
    "    mlp_model.fit(X_train, y_train)\n",
    "\n",
    "    y_train_pred = mlp_model.predict(X_train)\n",
    "    y_test_pred = mlp_model.predict(X_test)\n",
    "    \n",
    "    train_err.append(np.mean(y_train != y_train_pred))\n",
    "    test_err.append(np.mean(y_test != y_test_pred))\n",
    "    train_acc.append(accuracy_score(y_train, y_train_pred))\n",
    "    test_acc.append(accuracy_score(y_test, y_test_pred))"
   ]
  },
  {
   "cell_type": "markdown",
   "id": "e693c0d7",
   "metadata": {},
   "source": [
    "Зависимость ошибки на обучающей выборке и тестовой выборках от параметра alpha:"
   ]
  },
  {
   "cell_type": "code",
   "execution_count": 32,
   "id": "f8509175",
   "metadata": {},
   "outputs": [
    {
     "data": {
      "text/plain": [
       "<matplotlib.legend.Legend at 0x1de98ca3df0>"
      ]
     },
     "execution_count": 32,
     "metadata": {},
     "output_type": "execute_result"
    },
    {
     "data": {
      "image/png": "[encoded data removed]",
      "text/plain": [
       "<Figure size 432x288 with 1 Axes>"
      ]
     },
     "metadata": {
      "needs_background": "light"
     },
     "output_type": "display_data"
    }
   ],
   "source": [
    "plt.semilogx(alpha_arr, train_err, 'b-o', label = 'train')\n",
    "plt.semilogx(alpha_arr, test_err, 'r-o', label = 'test')\n",
    "plt.xlim([np.min(alpha_arr), np.max(alpha_arr)])\n",
    "plt.title('Error vs. alpha')\n",
    "plt.xlabel('alpha')\n",
    "plt.ylabel('error')\n",
    "plt.legend()"
   ]
  },
  {
   "cell_type": "markdown",
   "id": "bb02d213",
   "metadata": {},
   "source": [
    "Как мы видим при достаточно большом alpha происходит переобучение и ошибка возрастает."
   ]
  },
  {
   "cell_type": "markdown",
   "id": "554254f5",
   "metadata": {},
   "source": [
    "### Рассмотрим как у нас менялась метрика в зависимости от гиперпараметра:"
   ]
  },
  {
   "cell_type": "code",
   "execution_count": 33,
   "id": "f884c668",
   "metadata": {},
   "outputs": [
    {
     "data": {
      "text/plain": [
       "<matplotlib.legend.Legend at 0x1de9943e4c0>"
      ]
     },
     "execution_count": 33,
     "metadata": {},
     "output_type": "execute_result"
    },
    {
     "data": {
      "image/png": "[encoded data removed]",
      "text/plain": [
       "<Figure size 432x288 with 1 Axes>"
      ]
     },
     "metadata": {
      "needs_background": "light"
     },
     "output_type": "display_data"
    }
   ],
   "source": [
    "plt.semilogx(alpha_arr, train_acc, 'r-o', label = 'train')\n",
    "plt.semilogx(alpha_arr, test_acc, 'b-o', label = 'test')\n",
    "plt.xlim([np.min(alpha_arr), np.max(alpha_arr)])\n",
    "plt.title('Accuracy vs. alpha')\n",
    "plt.xlabel('alpha')\n",
    "plt.ylabel('Accuracy')\n",
    "plt.legend()"
   ]
  },
  {
   "cell_type": "markdown",
   "id": "cc3b86c9",
   "metadata": {},
   "source": [
    "Минимальное значение ошибки:"
   ]
  },
  {
   "cell_type": "code",
   "execution_count": 27,
   "id": "e53bcb3c",
   "metadata": {},
   "outputs": [
    {
     "name": "stdout",
     "output_type": "stream",
     "text": [
      "0.003951869765247139 0.09979651419976997\n"
     ]
    }
   ],
   "source": [
    "min_train_err = np.min(train_err)\n",
    "min_test_err = np.min(test_err)\n",
    "print(min_train_err, min_test_err)"
   ]
  },
  {
   "cell_type": "markdown",
   "id": "601976af",
   "metadata": {},
   "source": [
    "Оптимальное значение alpha:"
   ]
  },
  {
   "cell_type": "code",
   "execution_count": 28,
   "id": "73e7fb6d",
   "metadata": {},
   "outputs": [
    {
     "name": "stdout",
     "output_type": "stream",
     "text": [
      "[3.16227766]\n"
     ]
    }
   ],
   "source": [
    "alpha_opt = alpha_arr[test_err == min_test_err]\n",
    "print(alpha_opt)"
   ]
  },
  {
   "cell_type": "markdown",
   "id": "60d3f313",
   "metadata": {},
   "source": [
    "### Зависимость ошибки на обучающей и тестовой выборках от количества нейронов при оптимальном alpha:"
   ]
  },
  {
   "cell_type": "code",
   "execution_count": 32,
   "id": "ae42f208",
   "metadata": {},
   "outputs": [],
   "source": [
    "from sklearn.metrics import accuracy_score\n",
    "neuron_arr = np.logspace(1, 2, 10)\n",
    "neuron_arr=neuron_arr.astype('int')\n",
    "test_err1 = []\n",
    "train_err1 = []\n",
    "train_acc1 = []\n",
    "test_acc1 = []\n",
    "\n",
    "for neuro in neuron_arr:\n",
    "    \n",
    "    mlp_model = MLPClassifier(alpha = alpha_opt, hidden_layer_sizes = (neuro,), \n",
    "                              solver = 'lbfgs', activation = 'logistic', max_iter=100000, random_state = 54)\n",
    "    mlp_model.fit(X_train, y_train)\n",
    "\n",
    "    y_train_pred = mlp_model.predict(X_train)\n",
    "    y_test_pred = mlp_model.predict(X_test)\n",
    "    \n",
    "    train_err1.append(np.mean(y_train != y_train_pred))\n",
    "    test_err1.append(np.mean(y_test != y_test_pred))\n",
    "    train_acc1.append(accuracy_score(y_train, y_train_pred))\n",
    "    test_acc1.append(accuracy_score(y_test, y_test_pred))"
   ]
  },
  {
   "cell_type": "code",
   "execution_count": 33,
   "id": "eee8490b",
   "metadata": {
    "scrolled": true
   },
   "outputs": [
    {
     "data": {
      "text/plain": [
       "<matplotlib.legend.Legend at 0x27539056d90>"
      ]
     },
     "execution_count": 33,
     "metadata": {},
     "output_type": "execute_result"
    },
    {
     "data": {
      "image/png": "[encoded data removed]",
      "text/plain": [
       "<Figure size 432x288 with 1 Axes>"
      ]
     },
     "metadata": {
      "needs_background": "light"
     },
     "output_type": "display_data"
    }
   ],
   "source": [
    "plt.semilogx(neuron_arr, train_err1, 'b-o', label = 'train')\n",
    "plt.semilogx(neuron_arr, test_err1, 'r-o', label = 'test')\n",
    "plt.xlim([np.min(neuron_arr), np.max(neuron_arr)])\n",
    "plt.title('Error vs. neuron')\n",
    "plt.xlabel('neuron count')\n",
    "plt.ylabel('error')\n",
    "plt.legend()"
   ]
  },
  {
   "cell_type": "markdown",
   "id": "ee72d1d6",
   "metadata": {},
   "source": [
    "Как мы можем заметить на графике, оптимальным кол-вом нейронов в слое является 59"
   ]
  },
  {
   "cell_type": "markdown",
   "id": "10881c56",
   "metadata": {},
   "source": [
    "### Классификатор при найденном оптимальном значении alpha и оптимальном количестве нейронов:"
   ]
  },
  {
   "cell_type": "code",
   "execution_count": 18,
   "id": "021b1e2a",
   "metadata": {},
   "outputs": [],
   "source": [
    "alpha_opt = 3.16227766\n",
    "neuron_opt=59"
   ]
  },
  {
   "cell_type": "code",
   "execution_count": 19,
   "id": "2e1bba57",
   "metadata": {},
   "outputs": [
    {
     "name": "stdout",
     "output_type": "stream",
     "text": [
      "0.0961425032440722\n",
      "0.09961957002565691\n"
     ]
    }
   ],
   "source": [
    "mlp_model = MLPClassifier(alpha = alpha_opt, hidden_layer_sizes = (neuron_opt,),\n",
    "                          solver = 'lbfgs', activation = 'logistic', max_iter=100000, random_state = 54)\n",
    "mlp_model.fit(X_train, y_train)\n",
    "\n",
    "y_train_pred = mlp_model.predict(X_train)\n",
    "y_test_pred = mlp_model.predict(X_test)\n",
    "print(np.mean(y_train != y_train_pred))\n",
    "print(np.mean(y_test != y_test_pred))"
   ]
  },
  {
   "cell_type": "markdown",
   "id": "8efdaee4",
   "metadata": {},
   "source": [
    "#### Матрица рассогласования:"
   ]
  },
  {
   "cell_type": "code",
   "execution_count": 20,
   "id": "98c36caa",
   "metadata": {},
   "outputs": [
    {
     "name": "stdout",
     "output_type": "stream",
     "text": [
      "[[9672  813]\n",
      " [ 313  505]]\n"
     ]
    }
   ],
   "source": [
    "from sklearn.metrics import confusion_matrix\n",
    "print(confusion_matrix(y_test_pred, y_test))"
   ]
  },
  {
   "cell_type": "code",
   "execution_count": 21,
   "id": "b2bd14c1",
   "metadata": {},
   "outputs": [
    {
     "data": {
      "image/png": "[encoded data removed]",
      "text/plain": [
       "<Figure size 432x288 with 2 Axes>"
      ]
     },
     "metadata": {
      "needs_background": "light"
     },
     "output_type": "display_data"
    }
   ],
   "source": [
    "M = confusion_matrix(y_test_pred, y_test)\n",
    "M = np.sqrt(M)\n",
    "plt.imshow(M, interpolation = 'nearest')\n",
    "plt.set_cmap('binary')\n",
    "plt.xticks(range(2))\n",
    "plt.yticks(range(2))\n",
    "plt.xlabel(\"true label\")\n",
    "plt.ylabel(\"predicted label\")\n",
    "plt.colorbar()\n",
    "pass"
   ]
  },
  {
   "cell_type": "code",
   "execution_count": 22,
   "id": "dde15902",
   "metadata": {
    "scrolled": true
   },
   "outputs": [
    {
     "data": {
      "text/plain": [
       "<sklearn.metrics._plot.confusion_matrix.ConfusionMatrixDisplay at 0x1de98b599d0>"
      ]
     },
     "execution_count": 22,
     "metadata": {},
     "output_type": "execute_result"
    },
    {
     "data": {
      "image/png": "[encoded data removed]",
      "text/plain": [
       "<Figure size 432x288 with 2 Axes>"
      ]
     },
     "metadata": {
      "needs_background": "light"
     },
     "output_type": "display_data"
    }
   ],
   "source": [
    "from sklearn.metrics import plot_confusion_matrix\n",
    "plot_confusion_matrix(mlp_model, X_test, y_test) "
   ]
  },
  {
   "cell_type": "markdown",
   "id": "e7415af3",
   "metadata": {},
   "source": [
    "#### Точность предугадывания определенного ответа:"
   ]
  },
  {
   "cell_type": "code",
   "execution_count": 23,
   "id": "fbbe890b",
   "metadata": {},
   "outputs": [
    {
     "name": "stdout",
     "output_type": "stream",
     "text": [
      "              precision    recall  f1-score   support\n",
      "\n",
      "           0       0.92      0.97      0.94      9985\n",
      "           1       0.62      0.38      0.47      1318\n",
      "\n",
      "    accuracy                           0.90     11303\n",
      "   macro avg       0.77      0.68      0.71     11303\n",
      "weighted avg       0.89      0.90      0.89     11303\n",
      "\n"
     ]
    }
   ],
   "source": [
    "from sklearn.metrics import roc_curve\n",
    "\n",
    "\n",
    "from sklearn.metrics import classification_report\n",
    "print(classification_report(y_test, y_test_pred))"
   ]
  },
  {
   "cell_type": "markdown",
   "id": "c3bfdfd3",
   "metadata": {},
   "source": [
    "#### ROC-кривая"
   ]
  },
  {
   "cell_type": "code",
   "execution_count": 24,
   "id": "3ddb818f",
   "metadata": {},
   "outputs": [
    {
     "data": {
      "text/plain": [
       "<sklearn.metrics._plot.roc_curve.RocCurveDisplay at 0x1de98c28280>"
      ]
     },
     "execution_count": 24,
     "metadata": {},
     "output_type": "execute_result"
    },
    {
     "data": {
      "image/png": "[encoded data removed]",
      "text/plain": [
       "<Figure size 432x288 with 1 Axes>"
      ]
     },
     "metadata": {
      "needs_background": "light"
     },
     "output_type": "display_data"
    }
   ],
   "source": [
    "from sklearn.metrics import plot_roc_curve\n",
    "\n",
    "plot_roc_curve(mlp_model, X_test, y_test)"
   ]
  },
  {
   "cell_type": "markdown",
   "id": "2df51ee0",
   "metadata": {},
   "source": [
    "### Подберем оптимальное значение параметра регуляризации alpha при двух слоях:"
   ]
  },
  {
   "cell_type": "code",
   "execution_count": 34,
   "id": "a1f417c3",
   "metadata": {},
   "outputs": [],
   "source": [
    "from sklearn.metrics import accuracy_score\n",
    "alpha_arr = np.logspace(-3, 2, 21)\n",
    "test_err = []\n",
    "train_err = []\n",
    "train_acc = []\n",
    "test_acc = []\n",
    "\n",
    "for alpha in alpha_arr:\n",
    "    mlp_model = MLPClassifier(alpha = alpha, hidden_layer_sizes = (100,100,),\n",
    "                              solver = 'lbfgs', activation = 'logistic', max_iter=100000, random_state = 54)\n",
    "    mlp_model.fit(X_train, y_train)\n",
    "\n",
    "    y_train_pred = mlp_model.predict(X_train)\n",
    "    y_test_pred = mlp_model.predict(X_test)\n",
    "    \n",
    "    train_err.append(np.mean(y_train != y_train_pred))\n",
    "    test_err.append(np.mean(y_test != y_test_pred))\n",
    "    train_acc.append(accuracy_score(y_train, y_train_pred))\n",
    "    test_acc.append(accuracy_score(y_test, y_test_pred))"
   ]
  },
  {
   "cell_type": "markdown",
   "id": "a590a2a7",
   "metadata": {},
   "source": [
    "Зависимость ошибки на обучающей выборке и тестовой выборках от параметра alpha:"
   ]
  },
  {
   "cell_type": "code",
   "execution_count": 35,
   "id": "839d9bc9",
   "metadata": {},
   "outputs": [
    {
     "data": {
      "text/plain": [
       "<matplotlib.legend.Legend at 0x27538be0af0>"
      ]
     },
     "execution_count": 35,
     "metadata": {},
     "output_type": "execute_result"
    },
    {
     "data": {
      "image/png": "[encoded data removed]",
      "text/plain": [
       "<Figure size 432x288 with 1 Axes>"
      ]
     },
     "metadata": {
      "needs_background": "light"
     },
     "output_type": "display_data"
    }
   ],
   "source": [
    "plt.semilogx(alpha_arr, train_err, 'b-o', label = 'train')\n",
    "plt.semilogx(alpha_arr, test_err, 'r-o', label = 'test')\n",
    "plt.xlim([np.min(alpha_arr), np.max(alpha_arr)])\n",
    "plt.title('Error vs. alpha')\n",
    "plt.xlabel('alpha')\n",
    "plt.ylabel('error')\n",
    "plt.legend()"
   ]
  },
  {
   "cell_type": "markdown",
   "id": "111f5a18",
   "metadata": {},
   "source": [
    "Как мы видим при достаточно большом alpha происходит переобучение и ошибка возрастает."
   ]
  },
  {
   "cell_type": "markdown",
   "id": "daeee26e",
   "metadata": {},
   "source": [
    "### Рассмотрим как у нас менялась метрика в зависимости от гиперпараметра:"
   ]
  },
  {
   "cell_type": "code",
   "execution_count": 36,
   "id": "d7fe2c6b",
   "metadata": {},
   "outputs": [
    {
     "data": {
      "text/plain": [
       "<matplotlib.legend.Legend at 0x275391cd9d0>"
      ]
     },
     "execution_count": 36,
     "metadata": {},
     "output_type": "execute_result"
    },
    {
     "data": {
      "image/png": "[encoded data removed]",
      "text/plain": [
       "<Figure size 432x288 with 1 Axes>"
      ]
     },
     "metadata": {
      "needs_background": "light"
     },
     "output_type": "display_data"
    }
   ],
   "source": [
    "plt.semilogx(alpha_arr, train_acc, 'r-o', label = 'train')\n",
    "plt.semilogx(alpha_arr, test_acc, 'b-o', label = 'test')\n",
    "plt.xlim([np.min(alpha_arr), np.max(alpha_arr)])\n",
    "plt.title('Accuracy vs. alpha')\n",
    "plt.xlabel('alpha')\n",
    "plt.ylabel('Accuracy')\n",
    "plt.legend()"
   ]
  },
  {
   "cell_type": "markdown",
   "id": "3e12a606",
   "metadata": {},
   "source": [
    "Минимальное значение ошибки:"
   ]
  },
  {
   "cell_type": "code",
   "execution_count": 37,
   "id": "4587379e",
   "metadata": {},
   "outputs": [
    {
     "name": "stdout",
     "output_type": "stream",
     "text": [
      "0.0 0.0988233212421481\n"
     ]
    }
   ],
   "source": [
    "min_train_err = np.min(train_err)\n",
    "min_test_err = np.min(test_err)\n",
    "print(min_train_err, min_test_err)"
   ]
  },
  {
   "cell_type": "markdown",
   "id": "64c650cd",
   "metadata": {},
   "source": [
    "Оптимальное значение alpha:"
   ]
  },
  {
   "cell_type": "code",
   "execution_count": 38,
   "id": "26d40cbd",
   "metadata": {},
   "outputs": [
    {
     "name": "stdout",
     "output_type": "stream",
     "text": [
      "[5.62341325]\n"
     ]
    }
   ],
   "source": [
    "alpha_opt = alpha_arr[test_err == min_test_err]\n",
    "print(alpha_opt)"
   ]
  },
  {
   "cell_type": "markdown",
   "id": "581aa0d4",
   "metadata": {},
   "source": [
    "### Зависимость ошибки на обучающей и тестовой выборках от количества нейронов в 2х слоях при оптимальном alpha:"
   ]
  },
  {
   "cell_type": "code",
   "execution_count": 43,
   "id": "efe779f9",
   "metadata": {},
   "outputs": [],
   "source": [
    "from sklearn.metrics import accuracy_score\n",
    "neuron_arr = np.logspace(1, 2, 10)\n",
    "neuron_arr=neuron_arr.astype('int')\n",
    "test_err1 = []\n",
    "train_err1 = []\n",
    "train_acc1 = []\n",
    "test_acc1 = []\n",
    "\n",
    "for neuro in neuron_arr:\n",
    "    \n",
    "    mlp_model = MLPClassifier(alpha = alpha_opt, hidden_layer_sizes = (neuro,neuro,), \n",
    "                              solver = 'lbfgs', activation = 'logistic', max_iter=100000, random_state = 54)\n",
    "    mlp_model.fit(X_train, y_train)\n",
    "\n",
    "    y_train_pred = mlp_model.predict(X_train)\n",
    "    y_test_pred = mlp_model.predict(X_test)\n",
    "    \n",
    "    train_err1.append(np.mean(y_train != y_train_pred))\n",
    "    test_err1.append(np.mean(y_test != y_test_pred))\n",
    "    train_acc1.append(accuracy_score(y_train, y_train_pred))\n",
    "    test_acc1.append(accuracy_score(y_test, y_test_pred))"
   ]
  },
  {
   "cell_type": "code",
   "execution_count": 44,
   "id": "4f532506",
   "metadata": {
    "scrolled": true
   },
   "outputs": [
    {
     "data": {
      "text/plain": [
       "<matplotlib.legend.Legend at 0x2753938dfd0>"
      ]
     },
     "execution_count": 44,
     "metadata": {},
     "output_type": "execute_result"
    },
    {
     "data": {
      "image/png": "[encoded data removed]",
      "text/plain": [
       "<Figure size 432x288 with 1 Axes>"
      ]
     },
     "metadata": {
      "needs_background": "light"
     },
     "output_type": "display_data"
    }
   ],
   "source": [
    "plt.semilogx(neuron_arr, train_err1, 'b-o', label = 'train')\n",
    "plt.semilogx(neuron_arr, test_err1, 'r-o', label = 'test')\n",
    "plt.xlim([np.min(neuron_arr), np.max(neuron_arr)])\n",
    "plt.title('Error vs. neuron')\n",
    "plt.xlabel('neuron count')\n",
    "plt.ylabel('error')\n",
    "plt.legend()"
   ]
  },
  {
   "cell_type": "markdown",
   "id": "9a2cb18c",
   "metadata": {},
   "source": [
    "Как мы можем заметить на графике, оптимальным кол-вом нейронов в 2х слоях является 16"
   ]
  },
  {
   "cell_type": "markdown",
   "id": "f527377a",
   "metadata": {},
   "source": [
    "### Классификатор при найденном оптимальном значении alpha и оптимальном количестве нейронов в 2х слоях:"
   ]
  },
  {
   "cell_type": "code",
   "execution_count": 34,
   "id": "f8ce6e17",
   "metadata": {},
   "outputs": [],
   "source": [
    "alpha_opt=5.62341325\n",
    "neuron_opt=16"
   ]
  },
  {
   "cell_type": "code",
   "execution_count": 35,
   "id": "14354439",
   "metadata": {},
   "outputs": [
    {
     "name": "stdout",
     "output_type": "stream",
     "text": [
      "0.09493334906216822\n",
      "0.0985579049809785\n"
     ]
    }
   ],
   "source": [
    "mlp_model = MLPClassifier(alpha = alpha_opt, hidden_layer_sizes = (neuron_opt,neuron_opt,),\n",
    "                          solver = 'lbfgs', activation = 'logistic',max_iter=100000, random_state = 54)\n",
    "mlp_model.fit(X_train, y_train)\n",
    "\n",
    "y_train_pred = mlp_model.predict(X_train)\n",
    "y_test_pred = mlp_model.predict(X_test)\n",
    "print(np.mean(y_train != y_train_pred))\n",
    "print(np.mean(y_test != y_test_pred))"
   ]
  },
  {
   "cell_type": "markdown",
   "id": "44220dfd",
   "metadata": {},
   "source": [
    "#### Матрица рассогласования:"
   ]
  },
  {
   "cell_type": "code",
   "execution_count": 36,
   "id": "c6c770e5",
   "metadata": {},
   "outputs": [
    {
     "name": "stdout",
     "output_type": "stream",
     "text": [
      "[[9672  801]\n",
      " [ 313  517]]\n"
     ]
    }
   ],
   "source": [
    "from sklearn.metrics import confusion_matrix\n",
    "print(confusion_matrix(y_test_pred, y_test))"
   ]
  },
  {
   "cell_type": "code",
   "execution_count": 37,
   "id": "c256606e",
   "metadata": {},
   "outputs": [
    {
     "data": {
      "image/png": "[encoded data removed]",
      "text/plain": [
       "<Figure size 432x288 with 2 Axes>"
      ]
     },
     "metadata": {
      "needs_background": "light"
     },
     "output_type": "display_data"
    }
   ],
   "source": [
    "M = confusion_matrix(y_test_pred, y_test)\n",
    "M = np.sqrt(M)\n",
    "plt.imshow(M, interpolation = 'nearest')\n",
    "plt.set_cmap('binary')\n",
    "plt.xticks(range(2))\n",
    "plt.yticks(range(2))\n",
    "plt.xlabel(\"true label\")\n",
    "plt.ylabel(\"predicted label\")\n",
    "plt.colorbar()\n",
    "pass"
   ]
  },
  {
   "cell_type": "code",
   "execution_count": 38,
   "id": "38312ee4",
   "metadata": {
    "scrolled": true
   },
   "outputs": [
    {
     "data": {
      "text/plain": [
       "<sklearn.metrics._plot.confusion_matrix.ConfusionMatrixDisplay at 0x1de9950c6a0>"
      ]
     },
     "execution_count": 38,
     "metadata": {},
     "output_type": "execute_result"
    },
    {
     "data": {
      "image/png": "[encoded data removed]",
      "text/plain": [
       "<Figure size 432x288 with 2 Axes>"
      ]
     },
     "metadata": {
      "needs_background": "light"
     },
     "output_type": "display_data"
    }
   ],
   "source": [
    "from sklearn.metrics import plot_confusion_matrix\n",
    "plot_confusion_matrix(mlp_model, X_test, y_test) "
   ]
  },
  {
   "cell_type": "markdown",
   "id": "85f806d1",
   "metadata": {},
   "source": [
    "#### Точность предугадывания определенного ответа:"
   ]
  },
  {
   "cell_type": "code",
   "execution_count": 29,
   "id": "2cd8741b",
   "metadata": {},
   "outputs": [
    {
     "name": "stdout",
     "output_type": "stream",
     "text": [
      "              precision    recall  f1-score   support\n",
      "\n",
      "           0       0.92      0.97      0.95      9985\n",
      "           1       0.62      0.39      0.48      1318\n",
      "\n",
      "    accuracy                           0.90     11303\n",
      "   macro avg       0.77      0.68      0.71     11303\n",
      "weighted avg       0.89      0.90      0.89     11303\n",
      "\n"
     ]
    }
   ],
   "source": [
    "from sklearn.metrics import roc_curve\n",
    "\n",
    "\n",
    "from sklearn.metrics import classification_report\n",
    "print(classification_report(y_test, y_test_pred))"
   ]
  },
  {
   "cell_type": "markdown",
   "id": "c308bffb",
   "metadata": {},
   "source": [
    "#### ROC-кривая"
   ]
  },
  {
   "cell_type": "code",
   "execution_count": 30,
   "id": "0dc5568f",
   "metadata": {},
   "outputs": [
    {
     "data": {
      "text/plain": [
       "<sklearn.metrics._plot.roc_curve.RocCurveDisplay at 0x1de98cc7640>"
      ]
     },
     "execution_count": 30,
     "metadata": {},
     "output_type": "execute_result"
    },
    {
     "data": {
      "image/png": "[encoded data removed]",
      "text/plain": [
       "<Figure size 432x288 with 1 Axes>"
      ]
     },
     "metadata": {
      "needs_background": "light"
     },
     "output_type": "display_data"
    }
   ],
   "source": [
    "from sklearn.metrics import plot_roc_curve\n",
    "\n",
    "plot_roc_curve(mlp_model, X_test, y_test)"
   ]
  },
  {
   "cell_type": "markdown",
   "id": "d5ea4c22",
   "metadata": {},
   "source": [
    "## Вывод"
   ]
  },
  {
   "cell_type": "markdown",
   "id": "3841e749",
   "metadata": {},
   "source": [
    "Оптимальное число нейронов при одном слое 59 при это ошибка составила ~0.099. При двух слоях оптимальное число нейронов 16 при этом ошибка составила ~0.098. Значение ошибки не особо отличается от вычисленной ошибки с использованием различных классификаторов. Так же на основе таблицы точности можно заметить, что точность того, нейронная сеть угадает, что клиент не подпишется на срочный депозит выше и составляет 0,92. "
   ]
  }
 ],
 "metadata": {
  "kernelspec": {
   "display_name": "Python 3",
   "language": "python",
   "name": "python3"
  },
  "language_info": {
   "codemirror_mode": {
    "name": "ipython",
    "version": 3
   },
   "file_extension": ".py",
   "mimetype": "text/x-python",
   "name": "python",
   "nbconvert_exporter": "python",
   "pygments_lexer": "ipython3",
   "version": "3.8.8"
  }
 },
 "nbformat": 4,
 "nbformat_minor": 5
}
